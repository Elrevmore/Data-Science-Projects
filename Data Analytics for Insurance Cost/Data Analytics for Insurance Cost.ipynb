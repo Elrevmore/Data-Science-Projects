{
 "cells": [
  {
   "cell_type": "code",
   "execution_count": null,
   "id": "34608da6",
   "metadata": {},
   "outputs": [],
   "source": [
    "import piplite\n",
    "await piplite.install(['pandas'])\n",
    "await piplite.install(['matplotlib'])\n",
    "await piplite.install(['scipy'])\n",
    "await piplite.install(['scikit-learn'])\n",
    "await piplite.install(['seaborn'])\n",
    "await piplite.install(['numpy'])"
   ]
  },
  {
   "cell_type": "code",
   "execution_count": null,
   "id": "b454ffce",
   "metadata": {},
   "outputs": [],
   "source": [
    "import pandas as pd\n",
    "import numpy as np\n",
    "import sklearn\n",
    "import matplotlib.pyplot as plt\n",
    "import seaborn as sns\n",
    "from sklearn.pipeline import Pipeline\n",
    "from sklearn.preprocessing import StandardScaler, PolynomialFeatures\n",
    "from sklearn.linear_model import LinearRegression, Ridge\n",
    "from sklearn.metrics import mean_squared_error, r2_score\n",
    "from sklearn.model_selection import cross_val_score, train_test_split"
   ]
  },
  {
   "cell_type": "code",
   "execution_count": null,
   "id": "948febf8",
   "metadata": {},
   "outputs": [],
   "source": [
    "from pyodide.http import pyfetch\n",
    "\n",
    "async def download(url, filename):\n",
    "    response = await pyfetch(url)\n",
    "    if response.status == 200:\n",
    "        with open(filename, \"wb\") as f:\n",
    "            f.write(await response.bytes())"
   ]
  },
  {
   "cell_type": "code",
   "execution_count": null,
   "id": "599c6cf8",
   "metadata": {},
   "outputs": [],
   "source": [
    "filepath = 'https://cf-courses-data.s3.us.cloud-object-storage.appdomain.cloud/IBMDeveloperSkillsNetwork-DA0101EN-Coursera/medical_insurance_dataset.csv'\n",
    "await download(filepath, \"insurance.csv\")\n",
    "file_name=\"insurance.csv\"\n",
    "pd.read_csv(file_name)"
   ]
  },
  {
   "cell_type": "code",
   "execution_count": null,
   "id": "fa1c80e8",
   "metadata": {},
   "outputs": [],
   "source": [
    "df = pd.read_csv(file_name, header=None)\n",
    "print(df.head(10))"
   ]
  },
  {
   "cell_type": "code",
   "execution_count": null,
   "id": "fada0ac4",
   "metadata": {},
   "outputs": [],
   "source": [
    "headers = [\"age\", \"gender\", \"bmi\", \"no_of_children\", \"smoker\", \"region\", \"charges\"]\n",
    "df.columns = headers"
   ]
  },
  {
   "cell_type": "code",
   "execution_count": null,
   "id": "8a85f014",
   "metadata": {},
   "outputs": [],
   "source": [
    "df.replace(\"?\", np.nan, inplace= True)"
   ]
  },
  {
   "cell_type": "code",
   "execution_count": null,
   "id": "ae049b40",
   "metadata": {},
   "outputs": [],
   "source": [
    "print(df.info())\n",
    "#Smoker is  categoical, so replace with most frequent value\n",
    "is_smoker = df[\"smoker\"].value_counts().idxmax()\n",
    "df[\"smoker\"].replace(np.nan, is_smoker, inplace = True)\n",
    "\n",
    "#Age is numerical, so replace with mean\n",
    "mean_age =df[\"age\"].astype(\"float\").mean(axis=0)\n",
    "df[\"age\"].replace(np.nan, mean_age, inplace=True)\n",
    "\n",
    "#Convert to appropriate data types\n",
    "df[[\"age\",\"smoker\"]] = df[[\"age\",\"smoker\"]].astype(\"int\")\n",
    "print(df.info())"
   ]
  },
  {
   "cell_type": "code",
   "execution_count": null,
   "id": "9e1f2781",
   "metadata": {},
   "outputs": [],
   "source": [
    "#Charge was have more than two decimal except others. Rounded to 2 decimal places.\n",
    "df[[\"charges\"]] = np.round(df[\"charges\"],2)\n",
    "print(df.head())"
   ]
  },
  {
   "cell_type": "code",
   "execution_count": null,
   "id": "a7028b22",
   "metadata": {},
   "outputs": [],
   "source": [
    "#Visualize relationship between \"bmi\" and \"insurance\" charges\n",
    "sns.regplot(x=\"bmi\", y=\"charges\", data=df, line_kws={\"color\": \"red\"})\n",
    "plt.ylim(0,)"
   ]
  },
  {
   "cell_type": "code",
   "execution_count": null,
   "id": "6caa035d",
   "metadata": {},
   "outputs": [],
   "source": [
    "#Compare charges between smokers and non-smokers\n",
    "sns.boxplot( x= \"smoker\", y=\"charges\", data=df)"
   ]
  },
  {
   "cell_type": "code",
   "execution_count": null,
   "id": "e133e329",
   "metadata": {},
   "outputs": [],
   "source": [
    "\n",
    "#Calculate correlation to identify relationships\n",
    "print(df.corr())"
   ]
  },
  {
   "cell_type": "code",
   "execution_count": null,
   "id": "6a57ce59",
   "metadata": {},
   "outputs": [],
   "source": [
    "# Simple Linear Regression: Smoker as single predcitor\n",
    "X = df[[\"smoker\"]]\n",
    "Y = df[[\"charges\"]]\n",
    "lm = LinearRegression()\n",
    "lm.fit(X,Y)\n",
    "print(lm.score(X,Y))"
   ]
  },
  {
   "cell_type": "code",
   "execution_count": null,
   "id": "c1f1d471",
   "metadata": {},
   "outputs": [],
   "source": [
    "#Multiple Linear Regression: Using all features\n",
    "Z= df[[\"age\", \"gender\", \"bmi\", \"no_of_children\", \"smoker\", \"region\"]]\n",
    "lm.fit(Z,Y)\n",
    "print(lm.score(Z,Y)) #Print R^2 score for multiple regression"
   ]
  },
  {
   "cell_type": "code",
   "execution_count": null,
   "id": "98b359b0",
   "metadata": {},
   "outputs": [],
   "source": [
    "#Create pipeline with scaling, polynomial features, and linear regression\n",
    "Input = [(\"scale\",StandardScaler()), (\"polynomial\", PolynomialFeatures(include_bias = False)), (\"model\", LinearRegression())]\n",
    "pipe = Pipeline(Input)\n",
    "Z = Z.astype(float)\n",
    "pipe.fit(Z,Y)\n",
    "ypipe = pipe.predict(Z) \n",
    "print(r2_score(Y,ypipe)) #Evaluate pipeline performance"
   ]
  },
  {
   "cell_type": "code",
   "execution_count": null,
   "id": "9da00700",
   "metadata": {},
   "outputs": [],
   "source": [
    "#Split data into training and testing sets(80-20 split)\n",
    "x_train, x_test, y_train, y_test = train_test_split(Z, Y, test_size = 0.2, random_state=1)"
   ]
  },
  {
   "cell_type": "code",
   "execution_count": null,
   "id": "faf0d129",
   "metadata": {},
   "outputs": [],
   "source": [
    "#Train Ridge regression model to prevent overfitting\n",
    "RidgeModel = Ridge(alpha=0.1)\n",
    "RidgeModel.fit(x_train, y_train)\n",
    "Yhat = RidgeModel.predict(x_test)\n",
    "print(r2_score(y_test, Yhat)) #Evaluate model on test set"
   ]
  },
  {
   "cell_type": "code",
   "execution_count": null,
   "id": "af920e51",
   "metadata": {},
   "outputs": [],
   "source": [
    "#Apply polymomial Features with Ridge Regression\n",
    "pr = PolynomialFeatures(degree=2)\n",
    "x_train_pr = pr.fit_transform(x_train)\n",
    "x_test_pr = pr.transform(x_test)\n",
    "RidgeModel.fit(x_train_pr, y_train)\n",
    "y_hat = RidgeModel.predict(x_test_pr)\n",
    "print(r2_score(y_test,y_hat)) #Evaluate polynomial Ridge model"
   ]
  },
  {
   "cell_type": "code",
   "execution_count": null,
   "id": "f90c42ae",
   "metadata": {},
   "outputs": [],
   "source": []
  }
 ],
 "metadata": {
  "language_info": {
   "name": "python"
  }
 },
 "nbformat": 4,
 "nbformat_minor": 5
}
